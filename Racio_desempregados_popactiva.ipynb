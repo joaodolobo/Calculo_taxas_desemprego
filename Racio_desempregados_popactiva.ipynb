{
 "cells": [
  {
   "cell_type": "code",
   "execution_count": 28,
   "metadata": {},
   "outputs": [],
   "source": [
    "import pandas as pd\n",
    "import numpy as np\n",
    "PC_name = 'jan_lenovo'"
   ]
  },
  {
   "cell_type": "code",
   "execution_count": 29,
   "metadata": {
    "scrolled": false
   },
   "outputs": [],
   "source": [
    "df_Reg_Unemployed = pd.read_csv(\"C:/Users/{0}/Documents/MEGA/03_Doutoramento/06_Base de dados/School closure/Registered_unemployment.csv\".format(PC_name),\\\n",
    "engine='python', header = 0, sep = \";\", dtype= {'Code': str})\n",
    "df_Reg_Unemployed.index = df_Reg_Unemployed['Code']\n",
    "df_Reg_Unemployed.drop(['Unnamed: 24', 'Unnamed: 25', 'Code'], inplace = True, axis = 1)\n",
    "df_Reg_Unemployed=df_Reg_Unemployed.dropna()"
   ]
  },
  {
   "cell_type": "code",
   "execution_count": 30,
   "metadata": {},
   "outputs": [],
   "source": [
    "df_Pop_GE = pd.read_csv(\"C:/Users/{0}/Documents/MEGA/03_Doutoramento/06_Base de dados/School closure/Pop_totais_grupo_etario_municipio.csv\".format(PC_name),\\\n",
    "engine='python', header = 0, sep = \";\", dtype= {'code': str})\n",
    "df_Pop_GE.index = df_Pop_GE['code']\n",
    "df_Pop_GE['ano'] = pd.to_numeric(df_Pop_GE['ano'], downcast='integer')\n",
    "df_Pop_GE.drop(['code'], inplace = True, axis = 1)"
   ]
  },
  {
   "cell_type": "code",
   "execution_count": 31,
   "metadata": {},
   "outputs": [],
   "source": [
    "l=[]\n",
    "for i in df_Reg_Unemployed:\n",
    "    l.append(df_Reg_Unemployed.loc[:,['Nome',i]])\n",
    "\n",
    "#junta 1 coluna a todos os dataframes, que repete o nome de outra coluna em todas as linhas\n",
    "l=l[1:]\n",
    "\n",
    "x=0\n",
    "for i in l: \n",
    "    l[x]=l[x].assign(Year=l[x].columns[1])\n",
    "    x+=1\n",
    "\n",
    "\n",
    "#altera nome de colunas para ficarem todas idênticas quando se apende \n",
    "x=0\n",
    "for i in l: \n",
    "    l[x].rename(columns={l[x].columns[1]: 'Desempr_inscritos'}, inplace = True)\n",
    "    x+=1\n",
    "l\n",
    "# cria df1 que junta todas as dfs da lista l \n",
    "\n",
    "df1=pd.DataFrame()\n",
    "x=0 \n",
    "for i in l: \n",
    "    df1 = df1.append(l[x])\n",
    "    x+=1"
   ]
  },
  {
   "cell_type": "code",
   "execution_count": 32,
   "metadata": {},
   "outputs": [],
   "source": [
    "df1.Year = pd.to_numeric(df1.Year)\n",
    "df1.Desempr_inscritos = pd.to_numeric(df1.Desempr_inscritos)\n"
   ]
  },
  {
   "cell_type": "code",
   "execution_count": 33,
   "metadata": {},
   "outputs": [],
   "source": [
    "mylist = ['h0_4', 'h5_9', 'h10_14', 'h15_19', 'h20_24', 'h25_29','h30_34', 'h35_39', 'h40_44', \n",
    "          'h45_49', 'h50_54', 'h55_59', 'h60_64', 'h65_69', 'h70_74', 'h75_79', 'h80_84', 'h85 e mais']\n",
    "mylist2 = ['0_4', '5_9','10_14', '15_19', '20_24', '25_29', '30_34', '35_39', '40_44', '45_49',\n",
    "       '50_54', '55_59', '60_64', '65_69', '70_74', '75_79', '80_84','85 e mais']\n",
    "\n",
    "resultdict = {}\n",
    "resultdict['nome'] = df_Pop_GE.loc[:, 'nome']\n",
    "resultdict['ano'] = df_Pop_GE.loc[:, 'ano']\n",
    "\n",
    "for i in range(len(mylist)): \n",
    "    mydict = {'one': df_Pop_GE.loc[:, mylist[i]],'two': df_Pop_GE.loc[:, mylist2[i]]}\n",
    "    resultdf = pd.DataFrame(mydict)\n",
    "    resultdict[mylist2[i]] = resultdf.sum(axis=1)\n",
    "\n",
    "df_Pop_GE_HM_soma = pd.DataFrame(resultdict)\n",
    "mylist = []\n",
    "mylist2 = []"
   ]
  },
  {
   "cell_type": "code",
   "execution_count": 35,
   "metadata": {},
   "outputs": [],
   "source": [
    "#df1.loc[: , df1.Year == 2011]\n",
    "df2= df1[df1.Year!=2018]\n"
   ]
  },
  {
   "cell_type": "code",
   "execution_count": 36,
   "metadata": {},
   "outputs": [
    {
     "data": {
      "text/plain": [
       "15_19    732981\n",
       "20_24    821983\n",
       "25_29    768897\n",
       "30_34    748685\n",
       "35_39    729318\n",
       "40_44    683131\n",
       "45_49    663182\n",
       "50_54    593657\n",
       "55_59    540913\n",
       "60_64    555242\n",
       "dtype: int64"
      ]
     },
     "execution_count": 36,
     "metadata": {},
     "output_type": "execute_result"
    }
   ],
   "source": [
    "g = df_Pop_GE_HM_soma.groupby(('ano'))\n",
    "g.groups\n",
    "g.get_group(1997).loc[:,'15_19':'60_64'].sum()"
   ]
  },
  {
   "cell_type": "code",
   "execution_count": 37,
   "metadata": {},
   "outputs": [],
   "source": [
    "g1 = df2.groupby(('Year'))\n",
    "#g1.get_group(1997).Desempre_inscritos\n"
   ]
  },
  {
   "cell_type": "code",
   "execution_count": 38,
   "metadata": {},
   "outputs": [
    {
     "data": {
      "text/plain": [
       "Nome                 ArcosdeValdevezCaminhaMelgaçoMonçãoParedesdeCo...\n",
       "Desempr_inscritos                                               325137\n",
       "Year                                                            542000\n",
       "dtype: object"
      ]
     },
     "execution_count": 38,
     "metadata": {},
     "output_type": "execute_result"
    }
   ],
   "source": [
    "g1.get_group(2000).sum()"
   ]
  },
  {
   "cell_type": "code",
   "execution_count": 54,
   "metadata": {},
   "outputs": [
    {
     "data": {
      "text/plain": [
       "pandas.core.series.Series"
      ]
     },
     "execution_count": 54,
     "metadata": {},
     "output_type": "execute_result"
    }
   ],
   "source": [
    "l =[]\n",
    "for anno, df1 in g1:\n",
    "    l.append((g1.get_group(anno).loc[:,'Desempr_inscritos']/\\\n",
    "    g.get_group(anno).loc[:,'15_19':'60_64'].sum(axis=1)*100))\n",
    "\n",
    "\n",
    "df_desemprego = pd.DataFrame() \n",
    "\n",
    "df_desemprego = pd.concat(l, axis = 0, ignore_index = False)\n",
    "type(df_desemprego)"
   ]
  },
  {
   "cell_type": "code",
   "execution_count": null,
   "metadata": {},
   "outputs": [],
   "source": [
    "df_Pop_GE_HM_soma"
   ]
  }
 ],
 "metadata": {
  "kernelspec": {
   "display_name": "Python 3",
   "language": "python",
   "name": "python3"
  },
  "language_info": {
   "codemirror_mode": {
    "name": "ipython",
    "version": 3
   },
   "file_extension": ".py",
   "mimetype": "text/x-python",
   "name": "python",
   "nbconvert_exporter": "python",
   "pygments_lexer": "ipython3",
   "version": "3.6.6"
  }
 },
 "nbformat": 4,
 "nbformat_minor": 2
}
